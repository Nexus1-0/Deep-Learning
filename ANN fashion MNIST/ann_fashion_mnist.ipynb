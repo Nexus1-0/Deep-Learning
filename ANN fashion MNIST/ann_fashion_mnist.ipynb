{
  "nbformat": 4,
  "nbformat_minor": 0,
  "metadata": {
    "colab": {
      "provenance": []
    },
    "kernelspec": {
      "name": "python3",
      "display_name": "Python 3"
    },
    "language_info": {
      "name": "python"
    }
  },
  "cells": [
    {
      "cell_type": "markdown",
      "source": [
        "Consider Fashion MNIST dataset available in keras dataset repository.Take this dataset of 60,000 28x28 grayscale images of 10 fashion categories, along with a test set of 10,000 images.Design ANN model to classify this data set with good accuracy.Explain classification report for he same."
      ],
      "metadata": {
        "id": "YZdxOkGo1FfB"
      }
    },
    {
      "cell_type": "code",
      "execution_count": null,
      "metadata": {
        "id": "g6f6Esa2qEAN",
        "colab": {
          "base_uri": "https://localhost:8080/"
        },
        "outputId": "aab16280-c633-4e6e-d612-5c5d9057cc0b"
      },
      "outputs": [
        {
          "output_type": "stream",
          "name": "stdout",
          "text": [
            "Looking in indexes: https://pypi.org/simple, https://us-python.pkg.dev/colab-wheels/public/simple/\n",
            "Collecting keras-tuner\n",
            "  Downloading keras_tuner-1.3.5-py3-none-any.whl (176 kB)\n",
            "\u001b[2K     \u001b[90m━━━━━━━━━━━━━━━━━━━━━━━━━━━━━━━━━━━━━━\u001b[0m \u001b[32m176.1/176.1 kB\u001b[0m \u001b[31m11.1 MB/s\u001b[0m eta \u001b[36m0:00:00\u001b[0m\n",
            "\u001b[?25hRequirement already satisfied: packaging in /usr/local/lib/python3.10/dist-packages (from keras-tuner) (23.1)\n",
            "Requirement already satisfied: requests in /usr/local/lib/python3.10/dist-packages (from keras-tuner) (2.27.1)\n",
            "Collecting kt-legacy (from keras-tuner)\n",
            "  Downloading kt_legacy-1.0.5-py3-none-any.whl (9.6 kB)\n",
            "Requirement already satisfied: urllib3<1.27,>=1.21.1 in /usr/local/lib/python3.10/dist-packages (from requests->keras-tuner) (1.26.15)\n",
            "Requirement already satisfied: certifi>=2017.4.17 in /usr/local/lib/python3.10/dist-packages (from requests->keras-tuner) (2022.12.7)\n",
            "Requirement already satisfied: charset-normalizer~=2.0.0 in /usr/local/lib/python3.10/dist-packages (from requests->keras-tuner) (2.0.12)\n",
            "Requirement already satisfied: idna<4,>=2.5 in /usr/local/lib/python3.10/dist-packages (from requests->keras-tuner) (3.4)\n",
            "Installing collected packages: kt-legacy, keras-tuner\n",
            "Successfully installed keras-tuner-1.3.5 kt-legacy-1.0.5\n"
          ]
        }
      ],
      "source": [
        "import numpy as np\n",
        "import pandas as pd\n",
        "import tensorflow as tf\n",
        "from tensorflow import keras\n",
        "import matplotlib.pyplot as plt\n",
        "%matplotlib inline\n",
        "from sklearn.metrics import *\n",
        "import seaborn as sns\n",
        "from keras import Sequential\n",
        "!pip install keras-tuner\n",
        "import keras_tuner as kt"
      ]
    },
    {
      "cell_type": "code",
      "source": [
        "(Xtrain,ytrain),(Xtest,ytest) = tf.keras.datasets.fashion_mnist.load_data()"
      ],
      "metadata": {
        "colab": {
          "base_uri": "https://localhost:8080/"
        },
        "id": "8S5xZrrNqw8k",
        "outputId": "dec7261f-00b2-43ff-b087-379f64aca085"
      },
      "execution_count": null,
      "outputs": [
        {
          "output_type": "stream",
          "name": "stdout",
          "text": [
            "Downloading data from https://storage.googleapis.com/tensorflow/tf-keras-datasets/train-labels-idx1-ubyte.gz\n",
            "29515/29515 [==============================] - 0s 0us/step\n",
            "Downloading data from https://storage.googleapis.com/tensorflow/tf-keras-datasets/train-images-idx3-ubyte.gz\n",
            "26421880/26421880 [==============================] - 0s 0us/step\n",
            "Downloading data from https://storage.googleapis.com/tensorflow/tf-keras-datasets/t10k-labels-idx1-ubyte.gz\n",
            "5148/5148 [==============================] - 0s 0us/step\n",
            "Downloading data from https://storage.googleapis.com/tensorflow/tf-keras-datasets/t10k-images-idx3-ubyte.gz\n",
            "4422102/4422102 [==============================] - 0s 0us/step\n"
          ]
        }
      ]
    },
    {
      "cell_type": "code",
      "source": [
        "Xtrain.shape"
      ],
      "metadata": {
        "colab": {
          "base_uri": "https://localhost:8080/"
        },
        "id": "lFEOYN_ErUrA",
        "outputId": "de0935c7-ea31-44e8-c4b0-70f7d2eb0555"
      },
      "execution_count": null,
      "outputs": [
        {
          "output_type": "execute_result",
          "data": {
            "text/plain": [
              "(60000, 28, 28)"
            ]
          },
          "metadata": {},
          "execution_count": 5
        }
      ]
    },
    {
      "cell_type": "code",
      "source": [
        "ytrain.shape"
      ],
      "metadata": {
        "colab": {
          "base_uri": "https://localhost:8080/"
        },
        "id": "tYubEFztrbYa",
        "outputId": "d9072429-1054-4078-8c29-0aa0921ac295"
      },
      "execution_count": null,
      "outputs": [
        {
          "output_type": "execute_result",
          "data": {
            "text/plain": [
              "(60000,)"
            ]
          },
          "metadata": {},
          "execution_count": 6
        }
      ]
    },
    {
      "cell_type": "code",
      "source": [
        "plt.imshow(Xtrain[454],)"
      ],
      "metadata": {
        "colab": {
          "base_uri": "https://localhost:8080/",
          "height": 447
        },
        "id": "ScesB7YLrdIG",
        "outputId": "cfb20428-cc8b-429d-e5fc-b971f8fc3955"
      },
      "execution_count": null,
      "outputs": [
        {
          "output_type": "execute_result",
          "data": {
            "text/plain": [
              "<matplotlib.image.AxesImage at 0x7f1ee6303e20>"
            ]
          },
          "metadata": {},
          "execution_count": 9
        },
        {
          "output_type": "display_data",
          "data": {
            "text/plain": [
              "<Figure size 640x480 with 1 Axes>"
            ],
            "image/png": "[encoded data removed]"
          },
          "metadata": {}
        }
      ]
    },
    {
      "cell_type": "code",
      "source": [
        "Xtrain[454]"
      ],
      "metadata": {
        "colab": {
          "base_uri": "https://localhost:8080/"
        },
        "id": "bJ6YEA7CrjzK",
        "outputId": "a83af6f7-6d7c-432d-e2ad-d821bb86a378"
      },
      "execution_count": null,
      "outputs": [
        {
          "output_type": "execute_result",
          "data": {
            "text/plain": [
              "array([[  0,   0,   0,   0,   0,   0,   0,   0,   0,   0,   0,   3,   0,\n",
              "          8, 144, 138,  32,   0,   0,   0,   0,   0,   0,   0,   0,   0,\n",
              "          0,   0],\n",
              "       [  0,   0,   0,   0,   0,   0,   0,   0,   0,   0,   3,   0,   0,\n",
              "        191,   0,  13, 198,   0,   0,   3,   0,   0,   0,   0,   0,   0,\n",
              "          0,   0],\n",
              "       [  0,   0,   0,   0,   0,   0,   0,   0,   0,   0,   7,   0, 154,\n",
              "        147,   0,   0, 178, 125,   0,   6,   0,   0,   0,   0,   0,   0,\n",
              "          0,   0],\n",
              "       [  0,   0,   0,   0,   0,   0,   0,   0,   0,   3,   0,  12, 223,\n",
              "         40,   0,   0, 108, 174,   0,   0,   3,   0,   0,   0,   0,   0,\n",
              "          0,   0],\n",
              "       [  0,   0,   0,   0,   0,   0,   0,   0,   0,   2,   0, 120, 219,\n",
              "          0,   0,   0,   4, 216,  47,   0,   6,   0,   0,   0,   0,   0,\n",
              "          0,   0],\n",
              "       [  0,   0,   0,   0,   0,   0,   0,   0,   0,   0,   0, 177, 180,\n",
              "          0,   0,   0,   0, 194, 133,   0,   2,   0,   0,   0,   0,   0,\n",
              "          0,   0],\n",
              "       [  0,   0,   0,   0,   0,   0,   0,   0,   2,   0,   0, 218, 110,\n",
              "          0,   2,   1,   0, 167, 195,   0,   0,   1,   0,   0,   0,   0,\n",
              "          0,   0],\n",
              "       [  0,   0,   0,   0,   0,   0,   0,   0,   3,   0,   0, 230,  30,\n",
              "          0,   4,   1,   0, 154, 225,   0,   0,   2,   0,   0,   0,   0,\n",
              "          0,   0],\n",
              "       [  0,   0,   0,   0,   0,   0,   0,   2,   0,   0,  15, 230,   0,\n",
              "          0,   3,   2,   0, 136, 235,   0,   0,   1,   0,   0,   0,   0,\n",
              "          0,   0],\n",
              "       [  0,   0,   0,   0,   2,   3,   8,   0,  12,  40, 145, 205,   0,\n",
              "          0,   1,   3,   0, 117, 247,  28,   0,  10,   8,   6,   2,   0,\n",
              "          0,   0],\n",
              "       [  0,   0,   0,   0,   0,   0,   0,   0,  97,  79, 196, 186,   0,\n",
              "          0,   4,   6,   0,  43, 249,   0,   0,   0,   0,   0,   0,   0,\n",
              "          0,   0],\n",
              "       [  0,   0,   0,   0,   9,  69,  55, 112,  59,   0, 227, 181,   0,\n",
              "          0,   0,   0,   0,   6, 255, 120,  40,  76,  86,  81,   0,   0,\n",
              "          0,   0],\n",
              "       [  0,   0,   0,   0, 233, 239, 239, 235, 255, 255, 234, 240, 224,\n",
              "        151, 113, 117, 178, 219, 226, 231, 255, 236, 237, 247, 145,   0,\n",
              "          0,   0],\n",
              "       [  0,   0,   0,   0, 198, 218, 213, 223, 225, 224, 231, 233, 238,\n",
              "        244, 255, 255, 251, 213, 217, 215, 210, 217, 216, 230, 171,   0,\n",
              "          0,   0],\n",
              "       [  0,   0,   0,   0, 183, 228, 217, 225, 231, 232, 233, 236, 228,\n",
              "        216, 190, 188, 204, 217, 217, 219, 222, 221, 220, 247, 169,   0,\n",
              "          0,   0],\n",
              "       [  0,   0,   0,   0, 169, 228, 216, 231, 229, 230, 229, 230, 226,\n",
              "        209, 201, 200, 204, 212, 217, 219, 217, 219, 221, 251, 159,   0,\n",
              "          0,   0],\n",
              "       [  0,   0,   0,   0, 155, 234, 214, 232, 229, 226, 224, 219, 205,\n",
              "        194, 196, 205, 214, 216, 215, 216, 216, 219, 221, 255, 134,   0,\n",
              "          0,   0],\n",
              "       [  0,   0,   0,   0, 133, 231, 208, 230, 225, 225, 223, 208, 191,\n",
              "        187, 198, 211, 222, 220, 217, 217, 217, 220, 221, 255, 125,   0,\n",
              "          0,   0],\n",
              "       [  0,   0,   0,   0, 119, 230, 204, 232, 226, 225, 223, 214, 204,\n",
              "        204, 214, 221, 223, 220, 218, 217, 217, 221, 221, 255, 133,   0,\n",
              "          0,   0],\n",
              "       [  0,   0,   0,   0, 109, 231, 192, 230, 226, 222, 221, 222, 222,\n",
              "        221, 222, 219, 216, 215, 215, 217, 219, 224, 223, 255, 133,   0,\n",
              "          0,   0],\n",
              "       [  0,   0,   0,   0,  85, 238, 189, 225, 224, 222, 219, 220, 223,\n",
              "        224, 223, 220, 216, 217, 217, 219, 222, 227, 224, 255, 111,   0,\n",
              "          0,   0],\n",
              "       [  0,   0,   0,   0,  58, 248, 186, 223, 225, 225, 223, 223, 225,\n",
              "        227, 227, 226, 225, 224, 223, 225, 228, 230, 224, 255,  89,   0,\n",
              "          0,   0],\n",
              "       [  0,   0,   0,   0,  29, 255, 193, 220, 225, 227, 227, 227, 227,\n",
              "        227, 227, 228, 229, 229, 229, 230, 231, 234, 225, 255,  93,   0,\n",
              "          0,   0],\n",
              "       [  0,   0,   0,   0,   5, 255, 203, 220, 225, 228, 228, 228, 228,\n",
              "        228, 230, 230, 231, 231, 232, 233, 233, 235, 225, 255,  93,   0,\n",
              "          0,   0],\n",
              "       [  0,   0,   0,   0,   0, 254, 209, 217, 224, 226, 229, 230, 230,\n",
              "        230, 231, 232, 233, 232, 232, 233, 233, 231, 229, 255,  73,   0,\n",
              "          0,   0],\n",
              "       [  0,   0,   0,   0,   0, 255, 207, 216, 221, 223, 226, 228, 228,\n",
              "        229, 227, 227, 228, 226, 226, 229, 228, 227, 227, 255,  33,   0,\n",
              "          0,   0],\n",
              "       [  0,   0,   0,   0,   0, 221, 225, 237, 243, 244, 242, 239, 241,\n",
              "        241, 241, 243, 244, 243, 243, 243, 244, 249, 237, 255,  43,   0,\n",
              "          0,   0],\n",
              "       [  0,   0,   0,   0,   0,  60, 206, 181, 185, 188, 193, 192, 182,\n",
              "        178, 187, 189, 192, 194, 189, 180, 174, 166, 163, 144,   0,   0,\n",
              "          0,   0]], dtype=uint8)"
            ]
          },
          "metadata": {},
          "execution_count": 10
        }
      ]
    },
    {
      "cell_type": "code",
      "source": [
        "Xtrain = Xtrain/255\n",
        "Xtest = Xtest/255"
      ],
      "metadata": {
        "id": "14RHEF6CsJM2"
      },
      "execution_count": null,
      "outputs": []
    },
    {
      "cell_type": "code",
      "source": [
        "from keras.layers import Dense,Dropout"
      ],
      "metadata": {
        "id": "zgPgbHVi7Qpe"
      },
      "execution_count": null,
      "outputs": []
    },
    {
      "cell_type": "code",
      "source": [
        "def build_model(hp):\n",
        "  model = Sequential([\n",
        "      keras.layers.Flatten(input_shape = (28,28)),\n",
        "      keras.layers.Dense(120,activation = \"relu\")])\n",
        "\n",
        "  unit = hp.Int(\"units\",8,120,1)\n",
        "  opti =  hp.Choice(\"optimizer\",values = ['adam','rmsprop','sgd','adadelta','adagrad'])\n",
        "  active = hp.Choice(\"activation\",values = [\"relu\",\"tanh\",\"softmax\"])\n",
        "\n",
        "  for i in range(hp.Int(\"Layers\",min_value=1,max_value = 10)):\n",
        "    model.add(Dense(units = unit,activation = active))\n",
        "    model.add(Dropout(.4))\n",
        "\n",
        "  model.add(Dense(1,activation = \"softmax\"))\n",
        "  model.compile(optimizer = opti, loss = \"categorical_crossentropy\", metrics=[\"accuracy\"])\n",
        "\n",
        "  return model\n"
      ],
      "metadata": {
        "id": "p_CQkCPdsVEO"
      },
      "execution_count": null,
      "outputs": []
    },
    {
      "cell_type": "code",
      "source": [
        "tuner = kt.RandomSearch(\n",
        "    build_model,\n",
        "    objective = \"val_accuracy\",\n",
        "    max_trials = 8,\n",
        "    directory = \"tuning\",\n",
        "    project_name = \"version_1\"\n",
        ")"
      ],
      "metadata": {
        "id": "_HS1ozJa8q9a"
      },
      "execution_count": null,
      "outputs": []
    },
    {
      "cell_type": "code",
      "source": [
        "tuner.search(Xtrain,ytrain,epochs =20 , validation_data = (Xtest,ytest))"
      ],
      "metadata": {
        "colab": {
          "base_uri": "https://localhost:8080/"
        },
        "id": "vUKLXBqv9N-_",
        "outputId": "1fb77907-55b9-4229-d401-bbef106e7667"
      },
      "execution_count": null,
      "outputs": [
        {
          "output_type": "stream",
          "name": "stdout",
          "text": [
            "Trial 8 Complete [00h 02m 15s]\n",
            "val_accuracy: 0.10000000149011612\n",
            "\n",
            "Best val_accuracy So Far: 0.10000000149011612\n",
            "Total elapsed time: 00h 13m 50s\n"
          ]
        }
      ]
    },
    {
      "cell_type": "code",
      "source": [
        "tuner.get_best_hyperparameters()[0].values"
      ],
      "metadata": {
        "colab": {
          "base_uri": "https://localhost:8080/"
        },
        "id": "0KSdONlx-QkC",
        "outputId": "be7da55b-e167-42bc-df91-a18272137073"
      },
      "execution_count": null,
      "outputs": [
        {
          "output_type": "execute_result",
          "data": {
            "text/plain": [
              "{'units': 72, 'optimizer': 'adagrad', 'activation': 'softmax', 'Layers': 4}"
            ]
          },
          "metadata": {},
          "execution_count": 41
        }
      ]
    },
    {
      "cell_type": "code",
      "source": [
        "model = tuner.get_best_models(num_models=1)[0]"
      ],
      "metadata": {
        "id": "6wuGBse6IZHB"
      },
      "execution_count": null,
      "outputs": []
    },
    {
      "cell_type": "code",
      "source": [
        "model.summary()"
      ],
      "metadata": {
        "colab": {
          "base_uri": "https://localhost:8080/"
        },
        "id": "4IjJHxeNIsj1",
        "outputId": "647b0509-e1c1-4f77-a388-765f7db36a3e"
      },
      "execution_count": null,
      "outputs": [
        {
          "output_type": "stream",
          "name": "stdout",
          "text": [
            "Model: \"sequential\"\n",
            "_________________________________________________________________\n",
            " Layer (type)                Output Shape              Param #   \n",
            "=================================================================\n",
            " flatten (Flatten)           (None, 784)               0         \n",
            "                                                                 \n",
            " dense (Dense)               (None, 120)               94200     \n",
            "                                                                 \n",
            " dense_1 (Dense)             (None, 72)                8712      \n",
            "                                                                 \n",
            " dropout (Dropout)           (None, 72)                0         \n",
            "                                                                 \n",
            " dense_2 (Dense)             (None, 72)                5256      \n",
            "                                                                 \n",
            " dropout_1 (Dropout)         (None, 72)                0         \n",
            "                                                                 \n",
            " dense_3 (Dense)             (None, 72)                5256      \n",
            "                                                                 \n",
            " dropout_2 (Dropout)         (None, 72)                0         \n",
            "                                                                 \n",
            " dense_4 (Dense)             (None, 72)                5256      \n",
            "                                                                 \n",
            " dropout_3 (Dropout)         (None, 72)                0         \n",
            "                                                                 \n",
            " dense_5 (Dense)             (None, 1)                 73        \n",
            "                                                                 \n",
            "=================================================================\n",
            "Total params: 118,753\n",
            "Trainable params: 118,753\n",
            "Non-trainable params: 0\n",
            "_________________________________________________________________\n"
          ]
        }
      ]
    },
    {
      "cell_type": "code",
      "source": [
        "tb_callbacks = tf.keras.callbacks.TensorBoard(log_dir = '/content/logs',histogram_freq = 1)\n",
        "model.fit(Xtrain,ytrain,batch_size = 120 ,epochs=50 ,initial_epoch = 15,callbacks=[tb_callbacks] , validation_data=(Xtest,ytest))"
      ],
      "metadata": {
        "colab": {
          "base_uri": "https://localhost:8080/"
        },
        "id": "d768W0lgI-UN",
        "outputId": "6f0a3007-8433-4ef6-dac4-3c946e50408c"
      },
      "execution_count": null,
      "outputs": [
        {
          "output_type": "stream",
          "name": "stdout",
          "text": [
            "Epoch 16/50\n",
            "500/500 [==============================] - 3s 5ms/step - loss: 0.0000e+00 - accuracy: 0.1000 - val_loss: 0.0000e+00 - val_accuracy: 0.1000\n",
            "Epoch 17/50\n",
            "500/500 [==============================] - 3s 6ms/step - loss: 0.0000e+00 - accuracy: 0.1000 - val_loss: 0.0000e+00 - val_accuracy: 0.1000\n",
            "Epoch 18/50\n",
            "500/500 [==============================] - 3s 5ms/step - loss: 0.0000e+00 - accuracy: 0.1000 - val_loss: 0.0000e+00 - val_accuracy: 0.1000\n",
            "Epoch 19/50\n",
            "500/500 [==============================] - 2s 5ms/step - loss: 0.0000e+00 - accuracy: 0.1000 - val_loss: 0.0000e+00 - val_accuracy: 0.1000\n",
            "Epoch 20/50\n",
            "500/500 [==============================] - 2s 5ms/step - loss: 0.0000e+00 - accuracy: 0.1000 - val_loss: 0.0000e+00 - val_accuracy: 0.1000\n",
            "Epoch 21/50\n",
            "500/500 [==============================] - 3s 5ms/step - loss: 0.0000e+00 - accuracy: 0.1000 - val_loss: 0.0000e+00 - val_accuracy: 0.1000\n",
            "Epoch 22/50\n",
            "500/500 [==============================] - 3s 6ms/step - loss: 0.0000e+00 - accuracy: 0.1000 - val_loss: 0.0000e+00 - val_accuracy: 0.1000\n",
            "Epoch 23/50\n",
            "500/500 [==============================] - 3s 6ms/step - loss: 0.0000e+00 - accuracy: 0.1000 - val_loss: 0.0000e+00 - val_accuracy: 0.1000\n",
            "Epoch 24/50\n",
            "500/500 [==============================] - 3s 5ms/step - loss: 0.0000e+00 - accuracy: 0.1000 - val_loss: 0.0000e+00 - val_accuracy: 0.1000\n",
            "Epoch 25/50\n",
            "500/500 [==============================] - 4s 8ms/step - loss: 0.0000e+00 - accuracy: 0.1000 - val_loss: 0.0000e+00 - val_accuracy: 0.1000\n",
            "Epoch 26/50\n",
            "500/500 [==============================] - 2s 5ms/step - loss: 0.0000e+00 - accuracy: 0.1000 - val_loss: 0.0000e+00 - val_accuracy: 0.1000\n",
            "Epoch 27/50\n",
            "500/500 [==============================] - 2s 5ms/step - loss: 0.0000e+00 - accuracy: 0.1000 - val_loss: 0.0000e+00 - val_accuracy: 0.1000\n",
            "Epoch 28/50\n",
            "500/500 [==============================] - 2s 5ms/step - loss: 0.0000e+00 - accuracy: 0.1000 - val_loss: 0.0000e+00 - val_accuracy: 0.1000\n",
            "Epoch 29/50\n",
            "500/500 [==============================] - 2s 5ms/step - loss: 0.0000e+00 - accuracy: 0.1000 - val_loss: 0.0000e+00 - val_accuracy: 0.1000\n",
            "Epoch 30/50\n",
            "500/500 [==============================] - 3s 6ms/step - loss: 0.0000e+00 - accuracy: 0.1000 - val_loss: 0.0000e+00 - val_accuracy: 0.1000\n",
            "Epoch 31/50\n",
            "500/500 [==============================] - 2s 5ms/step - loss: 0.0000e+00 - accuracy: 0.1000 - val_loss: 0.0000e+00 - val_accuracy: 0.1000\n",
            "Epoch 32/50\n",
            "500/500 [==============================] - 2s 5ms/step - loss: 0.0000e+00 - accuracy: 0.1000 - val_loss: 0.0000e+00 - val_accuracy: 0.1000\n",
            "Epoch 33/50\n",
            "500/500 [==============================] - 2s 5ms/step - loss: 0.0000e+00 - accuracy: 0.1000 - val_loss: 0.0000e+00 - val_accuracy: 0.1000\n",
            "Epoch 34/50\n",
            "500/500 [==============================] - 2s 5ms/step - loss: 0.0000e+00 - accuracy: 0.1000 - val_loss: 0.0000e+00 - val_accuracy: 0.1000\n",
            "Epoch 35/50\n",
            "500/500 [==============================] - 3s 6ms/step - loss: 0.0000e+00 - accuracy: 0.1000 - val_loss: 0.0000e+00 - val_accuracy: 0.1000\n",
            "Epoch 36/50\n",
            "500/500 [==============================] - 2s 5ms/step - loss: 0.0000e+00 - accuracy: 0.1000 - val_loss: 0.0000e+00 - val_accuracy: 0.1000\n",
            "Epoch 37/50\n",
            "500/500 [==============================] - 2s 5ms/step - loss: 0.0000e+00 - accuracy: 0.1000 - val_loss: 0.0000e+00 - val_accuracy: 0.1000\n",
            "Epoch 38/50\n",
            "500/500 [==============================] - 3s 5ms/step - loss: 0.0000e+00 - accuracy: 0.1000 - val_loss: 0.0000e+00 - val_accuracy: 0.1000\n",
            "Epoch 39/50\n",
            "500/500 [==============================] - 3s 5ms/step - loss: 0.0000e+00 - accuracy: 0.1000 - val_loss: 0.0000e+00 - val_accuracy: 0.1000\n",
            "Epoch 40/50\n",
            "500/500 [==============================] - 3s 5ms/step - loss: 0.0000e+00 - accuracy: 0.1000 - val_loss: 0.0000e+00 - val_accuracy: 0.1000\n",
            "Epoch 41/50\n",
            "500/500 [==============================] - 3s 5ms/step - loss: 0.0000e+00 - accuracy: 0.1000 - val_loss: 0.0000e+00 - val_accuracy: 0.1000\n",
            "Epoch 42/50\n",
            "500/500 [==============================] - 3s 5ms/step - loss: 0.0000e+00 - accuracy: 0.1000 - val_loss: 0.0000e+00 - val_accuracy: 0.1000\n",
            "Epoch 43/50\n",
            "500/500 [==============================] - 2s 5ms/step - loss: 0.0000e+00 - accuracy: 0.1000 - val_loss: 0.0000e+00 - val_accuracy: 0.1000\n",
            "Epoch 44/50\n",
            "500/500 [==============================] - 3s 6ms/step - loss: 0.0000e+00 - accuracy: 0.1000 - val_loss: 0.0000e+00 - val_accuracy: 0.1000\n",
            "Epoch 45/50\n",
            "500/500 [==============================] - 3s 5ms/step - loss: 0.0000e+00 - accuracy: 0.1000 - val_loss: 0.0000e+00 - val_accuracy: 0.1000\n",
            "Epoch 46/50\n",
            "500/500 [==============================] - 2s 5ms/step - loss: 0.0000e+00 - accuracy: 0.1000 - val_loss: 0.0000e+00 - val_accuracy: 0.1000\n",
            "Epoch 47/50\n",
            "500/500 [==============================] - 2s 5ms/step - loss: 0.0000e+00 - accuracy: 0.1000 - val_loss: 0.0000e+00 - val_accuracy: 0.1000\n",
            "Epoch 48/50\n",
            "500/500 [==============================] - 3s 5ms/step - loss: 0.0000e+00 - accuracy: 0.1000 - val_loss: 0.0000e+00 - val_accuracy: 0.1000\n",
            "Epoch 49/50\n",
            "500/500 [==============================] - 3s 6ms/step - loss: 0.0000e+00 - accuracy: 0.1000 - val_loss: 0.0000e+00 - val_accuracy: 0.1000\n",
            "Epoch 50/50\n",
            "500/500 [==============================] - 3s 5ms/step - loss: 0.0000e+00 - accuracy: 0.1000 - val_loss: 0.0000e+00 - val_accuracy: 0.1000\n"
          ]
        },
        {
          "output_type": "execute_result",
          "data": {
            "text/plain": [
              "<keras.callbacks.History at 0x7f1ec61aef20>"
            ]
          },
          "metadata": {},
          "execution_count": 50
        }
      ]
    },
    {
      "cell_type": "code",
      "source": [
        "%reload_ext tensorboard\n",
        "%tensorboard --logdir /content/logs/validation"
      ],
      "metadata": {
        "colab": {
          "base_uri": "https://localhost:8080/",
          "height": 208
        },
        "id": "vTA0ZJ7qJq6Q",
        "outputId": "7ae894ac-508c-4aad-8888-2e7d694207a3"
      },
      "execution_count": null,
      "outputs": [
        {
          "output_type": "display_data",
          "data": {
            "text/plain": [
              "ERROR: Failed to launch TensorBoard (exited with 1).\n",
              "Contents of stderr:\n",
              "2023-06-10 12:01:17.710005: W tensorflow/compiler/tf2tensorrt/utils/py_utils.cc:38] TF-TRT Warning: Could not find TensorRT\n",
              "/usr/local/lib/python3.10/dist-packages/tensorboard_data_server/bin/server: /lib/x86_64-linux-gnu/libc.so.6: version `GLIBC_2.33' not found (required by /usr/local/lib/python3.10/dist-packages/tensorboard_data_server/bin/server)\n",
              "/usr/local/lib/python3.10/dist-packages/tensorboard_data_server/bin/server: /lib/x86_64-linux-gnu/libc.so.6: version `GLIBC_2.34' not found (required by /usr/local/lib/python3.10/dist-packages/tensorboard_data_server/bin/server)\n",
              "/usr/local/lib/python3.10/dist-packages/tensorboard_data_server/bin/server: /lib/x86_64-linux-gnu/libc.so.6: version `GLIBC_2.32' not found (required by /usr/local/lib/python3.10/dist-packages/tensorboard_data_server/bin/server)\n",
              "Address already in use\n",
              "Port 6006 is in use by another program. Either identify and stop that program, or start the server with a different port."
            ]
          },
          "metadata": {}
        }
      ]
    },
    {
      "cell_type": "code",
      "source": [],
      "metadata": {
        "id": "0RCBMIkvLUmH"
      },
      "execution_count": null,
      "outputs": []
    }
  ]
}